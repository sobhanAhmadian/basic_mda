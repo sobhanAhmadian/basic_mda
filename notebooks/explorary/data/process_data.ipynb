{
 "cells": [
  {
   "cell_type": "markdown",
   "source": [
    "# Path"
   ],
   "metadata": {
    "collapsed": false
   },
   "id": "48082b31cfeeedcc"
  },
  {
   "cell_type": "code",
   "execution_count": 5,
   "outputs": [
    {
     "name": "stdout",
     "output_type": "stream",
     "text": [
      "/Users/sobhan.ahmadian.moghadam/PycharmProjects/MLMDA\r\n"
     ]
    }
   ],
   "source": [
    "!pwd"
   ],
   "metadata": {
    "collapsed": false,
    "ExecuteTime": {
     "end_time": "2024-01-29T17:26:01.688103Z",
     "start_time": "2024-01-29T17:26:01.544149Z"
    }
   },
   "id": "1c8789006629311a"
  },
  {
   "cell_type": "code",
   "execution_count": 3,
   "outputs": [
    {
     "name": "stdout",
     "output_type": "stream",
     "text": [
      "/Users/sobhan.ahmadian.moghadam/PycharmProjects/MLMDA\n"
     ]
    }
   ],
   "source": [
    "cd .."
   ],
   "metadata": {
    "collapsed": false,
    "ExecuteTime": {
     "end_time": "2024-01-29T17:15:07.210285Z",
     "start_time": "2024-01-29T17:15:07.163878Z"
    }
   },
   "id": "e0e9b3d0a95f57b0"
  },
  {
   "cell_type": "code",
   "execution_count": 5,
   "id": "initial_id",
   "metadata": {
    "collapsed": true,
    "ExecuteTime": {
     "end_time": "2024-01-04T15:52:21.047687744Z",
     "start_time": "2024-01-04T15:52:20.933230512Z"
    }
   },
   "outputs": [
    {
     "name": "stdout",
     "output_type": "stream",
     "text": [
      "/home/user/Documents/Students/Sobhan Ahmadian/Projects/ml_mda\r\n"
     ]
    }
   ],
   "source": [
    "!pwd"
   ]
  },
  {
   "cell_type": "markdown",
   "source": [
    "# Process Data"
   ],
   "metadata": {
    "collapsed": false
   },
   "id": "544c9aca101451da"
  },
  {
   "cell_type": "code",
   "execution_count": 6,
   "outputs": [
    {
     "name": "stdout",
     "output_type": "stream",
     "text": [
      "2024-01-29 20:56:05,594 [INFO] reading id file: /Users/sobhan.ahmadian.moghadam/PycharmProjects/MLMDA/data_repository/raw/entities.txt\n",
      "2024-01-29 20:56:05,786 [INFO] entities saved at /Users/sobhan.ahmadian.moghadam/PycharmProjects/MLMDA/data_repository/processed/entity.csv\n",
      "2024-01-29 20:56:05,790 [INFO] reading id file: /Users/sobhan.ahmadian.moghadam/PycharmProjects/MLMDA/data_repository/raw/relation_types.txt\n",
      "2024-01-29 20:56:05,792 [INFO] relation types saved at /Users/sobhan.ahmadian.moghadam/PycharmProjects/MLMDA/data_repository/processed/relation_type.csv\n",
      "2024-01-29 20:56:05,793 [INFO] reading relations file: /Users/sobhan.ahmadian.moghadam/PycharmProjects/MLMDA/data_repository/raw/relations.txt\n",
      "2024-01-29 20:59:22,401 [INFO] number of unknown entities : 0\n",
      "2024-01-29 20:59:22,405 [INFO] number of unknown relation types : 0\n",
      "2024-01-29 20:59:23,456 [INFO] relations saved at /Users/sobhan.ahmadian.moghadam/PycharmProjects/MLMDA/data_repository/processed/relation.csv\n",
      "2024-01-29 20:59:23,457 [INFO] reading association file: /Users/sobhan.ahmadian.moghadam/PycharmProjects/MLMDA/data_repository/raw/associations.txt\n",
      "2024-01-29 20:59:24,547 [INFO] size of associations: (898, 3)\n",
      "2024-01-29 20:59:24,547 [INFO] number of unknowns: 0\n",
      "2024-01-29 20:59:24,550 [INFO] associations saved at /Users/sobhan.ahmadian.moghadam/PycharmProjects/MLMDA/data_repository/processed/association.csv\n"
     ]
    }
   ],
   "source": [
    "from src.features import process_data\n",
    "\n",
    "process_data()"
   ],
   "metadata": {
    "collapsed": false,
    "ExecuteTime": {
     "end_time": "2024-01-29T17:29:24.558611Z",
     "start_time": "2024-01-29T17:26:05.598239Z"
    }
   },
   "id": "9e65dd0c5d427331"
  },
  {
   "cell_type": "code",
   "execution_count": 4,
   "outputs": [
    {
     "name": "stdout",
     "output_type": "stream",
     "text": [
      "2024-01-29 20:16:49,519 [INFO] reading id file: /Users/sobhan.ahmadian.moghadam/PycharmProjects/MLMDA/data_repository/raw/entities.txt\n",
      "2024-01-29 20:16:49,652 [INFO] entities saved at /Users/sobhan.ahmadian.moghadam/PycharmProjects/MLMDA/data_repository/processed/entity.csv\n"
     ]
    }
   ],
   "source": [
    "from src.features.kgnmda import _load_entities\n",
    "\n",
    "entities = _load_entities()"
   ],
   "metadata": {
    "collapsed": false,
    "ExecuteTime": {
     "end_time": "2024-01-29T16:46:49.663995Z",
     "start_time": "2024-01-29T16:46:49.043909Z"
    }
   },
   "id": "4f8586ed1912414f"
  },
  {
   "cell_type": "code",
   "execution_count": 12,
   "outputs": [],
   "source": [
    "s = 0\n",
    "for name in entities['name']:\n",
    "    if len(name.split('::')) != 2:\n",
    "        print('hi')"
   ],
   "metadata": {
    "collapsed": false,
    "ExecuteTime": {
     "end_time": "2024-01-29T16:49:47.619249Z",
     "start_time": "2024-01-29T16:49:47.571922Z"
    }
   },
   "id": "94d89f892e883b2f"
  },
  {
   "cell_type": "code",
   "execution_count": 10,
   "outputs": [
    {
     "data": {
      "text/plain": "['hi', 'no']"
     },
     "execution_count": 10,
     "metadata": {},
     "output_type": "execute_result"
    }
   ],
   "source": [
    "'hi::no'.split('::')"
   ],
   "metadata": {
    "collapsed": false,
    "ExecuteTime": {
     "end_time": "2024-01-29T16:48:57.891856Z",
     "start_time": "2024-01-29T16:48:57.866911Z"
    }
   },
   "id": "bf231d37d62f5123"
  }
 ],
 "metadata": {
  "kernelspec": {
   "display_name": "Python 3",
   "language": "python",
   "name": "python3"
  },
  "language_info": {
   "codemirror_mode": {
    "name": "ipython",
    "version": 2
   },
   "file_extension": ".py",
   "mimetype": "text/x-python",
   "name": "python",
   "nbconvert_exporter": "python",
   "pygments_lexer": "ipython2",
   "version": "2.7.6"
  }
 },
 "nbformat": 4,
 "nbformat_minor": 5
}

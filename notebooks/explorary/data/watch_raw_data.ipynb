{
 "cells": [
  {
   "cell_type": "markdown",
   "source": [
    "# Path"
   ],
   "metadata": {
    "collapsed": false
   },
   "id": "763076b05766099d"
  },
  {
   "cell_type": "code",
   "execution_count": 1,
   "id": "initial_id",
   "metadata": {
    "collapsed": true,
    "ExecuteTime": {
     "end_time": "2024-01-29T17:35:03.530491Z",
     "start_time": "2024-01-29T17:35:03.396510Z"
    }
   },
   "outputs": [
    {
     "name": "stdout",
     "output_type": "stream",
     "text": [
      "/Users/sobhan.ahmadian.moghadam/PycharmProjects/MLMDA/notebooks/explorary\r\n"
     ]
    }
   ],
   "source": [
    "!pwd"
   ]
  },
  {
   "cell_type": "code",
   "execution_count": 2,
   "outputs": [
    {
     "name": "stdout",
     "output_type": "stream",
     "text": [
      "/Users/sobhan.ahmadian.moghadam/PycharmProjects/MLMDA\n"
     ]
    }
   ],
   "source": [
    "cd .."
   ],
   "metadata": {
    "collapsed": false,
    "ExecuteTime": {
     "end_time": "2024-01-29T17:40:33.904914Z",
     "start_time": "2024-01-29T17:40:33.864019Z"
    }
   },
   "id": "5ab3a33647feaf49"
  },
  {
   "cell_type": "markdown",
   "source": [
    "# Requirements"
   ],
   "metadata": {
    "collapsed": false
   },
   "id": "965853ab7f0d407a"
  },
  {
   "cell_type": "code",
   "execution_count": 3,
   "outputs": [
    {
     "name": "stderr",
     "output_type": "stream",
     "text": [
      "/var/folders/c7/mxl13hss42v_7bgjn9msq3fh0000gn/T/ipykernel_22912/2035458946.py:1: DeprecationWarning: \n",
      "Pyarrow will become a required dependency of pandas in the next major release of pandas (pandas 3.0),\n",
      "(to allow more performant data types, such as the Arrow string type, and better interoperability with other libraries)\n",
      "but was not found to be installed on your system.\n",
      "If this would cause problems for you,\n",
      "please provide us feedback at https://github.com/pandas-dev/pandas/issues/54466\n",
      "        \n",
      "  import pandas as pd\n"
     ]
    }
   ],
   "source": [
    "import pandas as pd"
   ],
   "metadata": {
    "collapsed": false,
    "ExecuteTime": {
     "end_time": "2024-01-29T17:40:43.080433Z",
     "start_time": "2024-01-29T17:40:42.633238Z"
    }
   },
   "id": "bfc378e5528b6fe8"
  },
  {
   "cell_type": "markdown",
   "source": [
    "# Entities"
   ],
   "metadata": {
    "collapsed": false
   },
   "id": "8510c2621a4d08e6"
  },
  {
   "cell_type": "code",
   "execution_count": 4,
   "outputs": [
    {
     "data": {
      "text/plain": "         type         name  id\n0    Compound  CHEBI:74510   0\n1        Gene        10584   1\n2  Metabolite  HMDB0075603   2\n3        Gene        79134   3\n4     Disease   DOID:12306   4",
      "text/html": "<div>\n<style scoped>\n    .dataframe tbody tr th:only-of-type {\n        vertical-align: middle;\n    }\n\n    .dataframe tbody tr th {\n        vertical-align: top;\n    }\n\n    .dataframe thead th {\n        text-align: right;\n    }\n</style>\n<table border=\"1\" class=\"dataframe\">\n  <thead>\n    <tr style=\"text-align: right;\">\n      <th></th>\n      <th>type</th>\n      <th>name</th>\n      <th>id</th>\n    </tr>\n  </thead>\n  <tbody>\n    <tr>\n      <th>0</th>\n      <td>Compound</td>\n      <td>CHEBI:74510</td>\n      <td>0</td>\n    </tr>\n    <tr>\n      <th>1</th>\n      <td>Gene</td>\n      <td>10584</td>\n      <td>1</td>\n    </tr>\n    <tr>\n      <th>2</th>\n      <td>Metabolite</td>\n      <td>HMDB0075603</td>\n      <td>2</td>\n    </tr>\n    <tr>\n      <th>3</th>\n      <td>Gene</td>\n      <td>79134</td>\n      <td>3</td>\n    </tr>\n    <tr>\n      <th>4</th>\n      <td>Disease</td>\n      <td>DOID:12306</td>\n      <td>4</td>\n    </tr>\n  </tbody>\n</table>\n</div>"
     },
     "execution_count": 4,
     "metadata": {},
     "output_type": "execute_result"
    }
   ],
   "source": [
    "from src.features import get_entities\n",
    "\n",
    "get_entities().head()"
   ],
   "metadata": {
    "collapsed": false,
    "ExecuteTime": {
     "end_time": "2024-01-29T17:40:45.137666Z",
     "start_time": "2024-01-29T17:40:45.055659Z"
    }
   },
   "id": "8b4b2d9d35ed8698"
  },
  {
   "cell_type": "markdown",
   "source": [
    "# Relation Types"
   ],
   "metadata": {
    "collapsed": false
   },
   "id": "8cf3e2bdba5904b7"
  },
  {
   "cell_type": "code",
   "execution_count": 5,
   "outputs": [
    {
     "data": {
      "text/plain": "                               type                name  id\n0  VMH:metabolite-disease:Decreased  metabolite:disease   0\n1                           GNBR:Ud        Gene:Disease   1\n2                            GNBR:L        Gene:Disease   2\n3                           GNBR:Pa    Compound:Disease   3\n4  VMH:metabolite-disease:Increased  metabolite:disease   4",
      "text/html": "<div>\n<style scoped>\n    .dataframe tbody tr th:only-of-type {\n        vertical-align: middle;\n    }\n\n    .dataframe tbody tr th {\n        vertical-align: top;\n    }\n\n    .dataframe thead th {\n        text-align: right;\n    }\n</style>\n<table border=\"1\" class=\"dataframe\">\n  <thead>\n    <tr style=\"text-align: right;\">\n      <th></th>\n      <th>type</th>\n      <th>name</th>\n      <th>id</th>\n    </tr>\n  </thead>\n  <tbody>\n    <tr>\n      <th>0</th>\n      <td>VMH:metabolite-disease:Decreased</td>\n      <td>metabolite:disease</td>\n      <td>0</td>\n    </tr>\n    <tr>\n      <th>1</th>\n      <td>GNBR:Ud</td>\n      <td>Gene:Disease</td>\n      <td>1</td>\n    </tr>\n    <tr>\n      <th>2</th>\n      <td>GNBR:L</td>\n      <td>Gene:Disease</td>\n      <td>2</td>\n    </tr>\n    <tr>\n      <th>3</th>\n      <td>GNBR:Pa</td>\n      <td>Compound:Disease</td>\n      <td>3</td>\n    </tr>\n    <tr>\n      <th>4</th>\n      <td>VMH:metabolite-disease:Increased</td>\n      <td>metabolite:disease</td>\n      <td>4</td>\n    </tr>\n  </tbody>\n</table>\n</div>"
     },
     "execution_count": 5,
     "metadata": {},
     "output_type": "execute_result"
    }
   ],
   "source": [
    "from src.features import get_relation_types\n",
    "\n",
    "get_relation_types().head()"
   ],
   "metadata": {
    "collapsed": false,
    "ExecuteTime": {
     "end_time": "2024-01-29T17:41:14.053999Z",
     "start_time": "2024-01-29T17:41:14.027848Z"
    }
   },
   "id": "284a28609c7a7f21"
  },
  {
   "cell_type": "markdown",
   "source": [
    "# Associations"
   ],
   "metadata": {
    "collapsed": false
   },
   "id": "edaa6c4edc1622c2"
  },
  {
   "cell_type": "code",
   "execution_count": 6,
   "outputs": [
    {
     "data": {
      "text/plain": "   disease  microbe  increased\n0    50863    33211          1\n1    43621    40832          1\n2    33293    47880          1\n3    13213    53186          1\n4    33293    14909          1",
      "text/html": "<div>\n<style scoped>\n    .dataframe tbody tr th:only-of-type {\n        vertical-align: middle;\n    }\n\n    .dataframe tbody tr th {\n        vertical-align: top;\n    }\n\n    .dataframe thead th {\n        text-align: right;\n    }\n</style>\n<table border=\"1\" class=\"dataframe\">\n  <thead>\n    <tr style=\"text-align: right;\">\n      <th></th>\n      <th>disease</th>\n      <th>microbe</th>\n      <th>increased</th>\n    </tr>\n  </thead>\n  <tbody>\n    <tr>\n      <th>0</th>\n      <td>50863</td>\n      <td>33211</td>\n      <td>1</td>\n    </tr>\n    <tr>\n      <th>1</th>\n      <td>43621</td>\n      <td>40832</td>\n      <td>1</td>\n    </tr>\n    <tr>\n      <th>2</th>\n      <td>33293</td>\n      <td>47880</td>\n      <td>1</td>\n    </tr>\n    <tr>\n      <th>3</th>\n      <td>13213</td>\n      <td>53186</td>\n      <td>1</td>\n    </tr>\n    <tr>\n      <th>4</th>\n      <td>33293</td>\n      <td>14909</td>\n      <td>1</td>\n    </tr>\n  </tbody>\n</table>\n</div>"
     },
     "execution_count": 6,
     "metadata": {},
     "output_type": "execute_result"
    }
   ],
   "source": [
    "from src.features import get_associations\n",
    "\n",
    "get_associations().head()"
   ],
   "metadata": {
    "collapsed": false,
    "ExecuteTime": {
     "end_time": "2024-01-29T17:41:41.840244Z",
     "start_time": "2024-01-29T17:41:41.820346Z"
    }
   },
   "id": "3bd103afbf1189d0"
  },
  {
   "cell_type": "markdown",
   "source": [
    "# Relations"
   ],
   "metadata": {
    "collapsed": false
   },
   "id": "9c73660f62ccb058"
  },
  {
   "cell_type": "code",
   "execution_count": 7,
   "outputs": [
    {
     "data": {
      "text/plain": "    head  relation   tail\n0  37448        17  41929\n1  41929        17  37448\n2  45065        17  41929\n3  41929        17  45065\n4  50858        17  41929",
      "text/html": "<div>\n<style scoped>\n    .dataframe tbody tr th:only-of-type {\n        vertical-align: middle;\n    }\n\n    .dataframe tbody tr th {\n        vertical-align: top;\n    }\n\n    .dataframe thead th {\n        text-align: right;\n    }\n</style>\n<table border=\"1\" class=\"dataframe\">\n  <thead>\n    <tr style=\"text-align: right;\">\n      <th></th>\n      <th>head</th>\n      <th>relation</th>\n      <th>tail</th>\n    </tr>\n  </thead>\n  <tbody>\n    <tr>\n      <th>0</th>\n      <td>37448</td>\n      <td>17</td>\n      <td>41929</td>\n    </tr>\n    <tr>\n      <th>1</th>\n      <td>41929</td>\n      <td>17</td>\n      <td>37448</td>\n    </tr>\n    <tr>\n      <th>2</th>\n      <td>45065</td>\n      <td>17</td>\n      <td>41929</td>\n    </tr>\n    <tr>\n      <th>3</th>\n      <td>41929</td>\n      <td>17</td>\n      <td>45065</td>\n    </tr>\n    <tr>\n      <th>4</th>\n      <td>50858</td>\n      <td>17</td>\n      <td>41929</td>\n    </tr>\n  </tbody>\n</table>\n</div>"
     },
     "execution_count": 7,
     "metadata": {},
     "output_type": "execute_result"
    }
   ],
   "source": [
    "from src.features import get_relations\n",
    "\n",
    "get_relations().head()"
   ],
   "metadata": {
    "collapsed": false,
    "ExecuteTime": {
     "end_time": "2024-01-29T17:42:07.465049Z",
     "start_time": "2024-01-29T17:42:07.312264Z"
    }
   },
   "id": "545e0fd9a8ce34bc"
  },
  {
   "cell_type": "code",
   "execution_count": null,
   "outputs": [],
   "source": [],
   "metadata": {
    "collapsed": false
   },
   "id": "480e9aad255361df"
  }
 ],
 "metadata": {
  "kernelspec": {
   "display_name": "Python 3",
   "language": "python",
   "name": "python3"
  },
  "language_info": {
   "codemirror_mode": {
    "name": "ipython",
    "version": 2
   },
   "file_extension": ".py",
   "mimetype": "text/x-python",
   "name": "python",
   "nbconvert_exporter": "python",
   "pygments_lexer": "ipython2",
   "version": "2.7.6"
  }
 },
 "nbformat": 4,
 "nbformat_minor": 5
}
